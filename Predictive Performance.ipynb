{
 "cells": [
  {
   "cell_type": "markdown",
   "id": "59706ee7",
   "metadata": {},
   "source": [
    "#### Importing required libraries"
   ]
  },
  {
   "cell_type": "code",
   "execution_count": null,
   "id": "8dbb6d8a",
   "metadata": {},
   "outputs": [],
   "source": [
    "import numpy as np\n",
    "import pandas as pd\n",
    "from sklearn.model_selection import train_test_split\n",
    "from sklearn.metrics import mean_squared_error, mean_absolute_error, r2_score\n",
    "from sklearn.linear_model import LinearRegression\n",
    "from sklearn.ensemble import ExtraTreesRegressor, RandomForestRegressor\n",
    "import xgboost as xgb\n",
    "import tensorflow as tf\n",
    "from tensorflow.keras.models import Sequential\n",
    "from tensorflow.keras.layers import Dense"
   ]
  },
  {
   "cell_type": "code",
   "execution_count": null,
   "id": "f82bb867",
   "metadata": {},
   "outputs": [],
   "source": [
    "X_train = pd.read_csv(\"x_train_final.csv\")\n",
    "Y_train = pd.read_csv(\"y_train_final.csv\")\n",
    "X_test = pd.read_csv(\"x_test_final.csv\")\n",
    "Y_test = pd.read_csv(\"y_test_final.csv\")"
   ]
  },
  {
   "cell_type": "code",
   "execution_count": null,
   "id": "414e279e",
   "metadata": {},
   "outputs": [],
   "source": [
    "# Helper function to evaluate the model\n",
    "def evaluate_model(model,output, X_train, X_test, Y_train, Y_test):\n",
    "    train_preds = model.predict(X_train)\n",
    "    test_preds = model.predict(X_test)\n",
    "\n",
    "    metrics = {\n",
    "        \"output\": output,\n",
    "        \"Train_MSE\": mean_squared_error(Y_train[output], train_preds),\n",
    "        \"Train_MAE\": mean_absolute_error(Y_train[output], train_preds),\n",
    "        \"Train_R2\": r2_score(Y_train[output], train_preds),\n",
    "        \"Test_MSE\": mean_squared_error(Y_test[output], test_preds),\n",
    "        \"Test_MAE\": mean_absolute_error(Y_test[output], test_preds),\n",
    "        \"Test_R2\": r2_score(Y_test[output], test_preds),\n",
    "    }\n",
    "    return metrics"
   ]
  },
  {
   "cell_type": "markdown",
   "id": "0c26629d",
   "metadata": {},
   "source": [
    "#### Traditional ML Models"
   ]
  },
  {
   "cell_type": "code",
   "execution_count": null,
   "id": "38d16055",
   "metadata": {},
   "outputs": [],
   "source": [
    "models = {\n",
    "    \"Linear Regression\": LinearRegression(),\n",
    "    \"Extra Tree Regressor\": ExtraTreesRegressor(n_estimators = 100, max_depth = 5, max_features = 50,random_state=42),\n",
    "    \"Random Forest Regressor\": RandomForestRegressor(n_estimators = 50, max_depth = 5, max_features =50 ,random_state=42),\n",
    "    \"XGB Regressor\": xgb.XGBRegressor(n_estimators = 100 , max_depth = 5 , learning_rate = 1e-2 ,objective='reg:squarederror', random_state=42)\n",
    "}"
   ]
  },
  {
   "cell_type": "code",
   "execution_count": null,
   "id": "b5a2b63c",
   "metadata": {},
   "outputs": [],
   "source": [
    "output_labels = ['RET_ff4','exret_ff4','exret_ff3', 'exret_mkt']"
   ]
  },
  {
   "cell_type": "code",
   "execution_count": null,
   "id": "e70c1f1a",
   "metadata": {},
   "outputs": [],
   "source": [
    "results = {}\n",
    "\n",
    "# Train and evaluate traditional ML models\n",
    "for name, model in models.items():\n",
    "    for output in output_labels:\n",
    "        print(f\"Training {name}... for... {output}\")\n",
    "        model.fit(X_train, Y_train[output])\n",
    "        results[name] = evaluate_model(model,output, X_train, X_test, Y_train, Y_test)"
   ]
  },
  {
   "cell_type": "markdown",
   "id": "63c19743",
   "metadata": {},
   "source": [
    "#### MLP Models"
   ]
  },
  {
   "cell_type": "code",
   "execution_count": null,
   "id": "72ea1c61",
   "metadata": {},
   "outputs": [],
   "source": [
    "# Define NN1 to NN5 architectures\n",
    "def build_nn1():\n",
    "    model = Sequential([\n",
    "        Dense(50, kernel_initializer='normal', activation='relu'),\n",
    "        Dense(1, kernel_initializer='normal', activation='linear')\n",
    "    ])\n",
    "    model.compile(optimizer='adam', loss='mse', metrics=['mae'])\n",
    "    return model\n",
    "\n",
    "def build_nn2():\n",
    "    model = Sequential([\n",
    "        Dense(100, kernel_initializer='normal', activation='relu'),\n",
    "        Dense(50, kernel_initializer='normal', activation='relu'),\n",
    "        Dense(1, kernel_initializer='normal', activation='linear')\n",
    "    ])\n",
    "    model.compile(optimizer='adam', loss='mse', metrics=['mae'])\n",
    "    return model\n",
    "\n",
    "def build_nn3():\n",
    "    model = Sequential([\n",
    "        Dense(150, kernel_initializer='normal', activation='relu'),\n",
    "        Dense(100, kernel_initializer='normal', activation='relu'),\n",
    "        Dense(50, kernel_initializer='normal', activation='relu'),\n",
    "        Dense(1, kernel_initializer='normal', activation='linear')\n",
    "    ])\n",
    "    model.compile(optimizer='adam', loss='mse', metrics=['mae'])\n",
    "    return model\n",
    "\n",
    "def build_nn4():\n",
    "    model = Sequential([\n",
    "        Dense(150, kernel_initializer='normal', activation='relu'),\n",
    "        Dense(100, kernel_initializer='normal', activation='relu'),\n",
    "        Dense(50, kernel_initializer='normal', activation='relu'),\n",
    "        Dense(25, kernel_initializer='normal', activation='relu'),\n",
    "        Dense(1, kernel_initializer='normal', activation='linear')\n",
    "    ])\n",
    "    model.compile(optimizer='adam', loss='mse', metrics=['mae'])\n",
    "    return model\n",
    "\n",
    "def build_nn5():\n",
    "    model = Sequential([\n",
    "        Dense(150, kernel_initializer='normal', activation='relu'),\n",
    "        Dense(100, kernel_initializer='normal', activation='relu'),\n",
    "        Dense(50, kernel_initializer='normal', activation='relu'),\n",
    "        Dense(25, kernel_initializer='normal', activation='relu'),\n",
    "        Dense(12, kernel_initializer='normal', activation='relu'),\n",
    "        Dense(1, kernel_initializer='normal', activation='linear')\n",
    "    ])\n",
    "    model.compile(optimizer='adam', loss='mse', metrics=['mae'])\n",
    "    return model\n",
    "\n",
    "# Train and evaluate NN1 to NN5\n",
    "nn_models = {\n",
    "    \"NN1\": build_nn1(),\n",
    "    \"NN2\": build_nn2(),\n",
    "    \"NN3\": build_nn3(),\n",
    "    \"NN4\": build_nn4(),\n",
    "    \"NN5\": build_nn5(),\n",
    "}\n",
    "\n",
    "# Train and evaluate each NN\n",
    "for name, nn_model in nn_models.items():\n",
    "    for output in output_labels:\n",
    "        print(f\"Training {name}...\")\n",
    "        nn_model.fit(X_train, Y_train[output], epochs=50, batch_size=32, verbose=0, validation_split=0.1)\n",
    "\n",
    "        train_preds = nn_model.predict(X_train)\n",
    "        test_preds = nn_model.predict(X_test)\n",
    "\n",
    "        results[name] = {\n",
    "            \"output\": output,\n",
    "            \"Train_MSE\": mean_squared_error(Y_train[output], train_preds),\n",
    "            \"Train_MAE\": mean_absolute_error(Y_train[output], train_preds),\n",
    "            \"Train_R2\": r2_score(Y_train[output], train_preds),\n",
    "            \"Test_MSE\": mean_squared_error(Y_test[output], test_preds),\n",
    "            \"Test_MAE\": mean_absolute_error(Y_test[output], test_preds),\n",
    "            \"Test_R2\": r2_score(Y_test[output], test_preds),\n",
    "        }\n",
    "\n",
    "# Combine and display results\n",
    "results_df = pd.DataFrame(results).T\n",
    "results_df.index.name = \"Model\""
   ]
  }
 ],
 "metadata": {
  "kernelspec": {
   "display_name": "Python 3 (ipykernel)",
   "language": "python",
   "name": "python3"
  },
  "language_info": {
   "codemirror_mode": {
    "name": "ipython",
    "version": 3
   },
   "file_extension": ".py",
   "mimetype": "text/x-python",
   "name": "python",
   "nbconvert_exporter": "python",
   "pygments_lexer": "ipython3",
   "version": "3.8.10"
  }
 },
 "nbformat": 4,
 "nbformat_minor": 5
}
